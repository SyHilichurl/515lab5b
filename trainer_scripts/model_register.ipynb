{
 "cells": [
  {
   "cell_type": "code",
   "execution_count": 2,
   "id": "e9bd346f-d759-4fad-858a-ace88725c7b8",
   "metadata": {},
   "outputs": [],
   "source": [
    "import os\n",
    "\n",
    "dependencies_dir = \"./dependencies\"\n",
    "os.makedirs(dependencies_dir, exist_ok=True)"
   ]
  },
  {
   "cell_type": "code",
   "execution_count": 6,
   "id": "50e2360d-1fa8-4422-adbe-bcf34c06026f",
   "metadata": {},
   "outputs": [
    {
     "name": "stdout",
     "output_type": "stream",
     "text": [
      "Overwriting ./dependencies/conda.yaml\n"
     ]
    }
   ],
   "source": [
    "%%writefile {dependencies_dir}/conda.yaml\n",
    "name: model-env\n",
    "channels:\n",
    "  - conda-forge\n",
    "  - defaults\n",
    "dependencies:\n",
    "  - python=3.8\n",
    "  - numpy>=1.21\n",
    "  - pip\n",
    "  - scikit-learn>=1.0\n",
    "  - scipy>=1.7\n",
    "  - pandas>=1.1,<1.2\n",
    "  - pip:\n",
    "    - tensorflow>=2.9,<2.12\n",
    "    - mlflow\n",
    "    - azureml-mlflow\n",
    "    - azureml-defaults\n",
    "    - inference-schema[numpy-support]\n",
    "    - matplotlib\n",
    "    - psutil\n",
    "    - tqdm\n",
    "    - ipykernel"
   ]
  },
  {
   "cell_type": "code",
   "execution_count": 12,
   "id": "05863fda-efa0-434d-b430-c1ac7ca50764",
   "metadata": {},
   "outputs": [
    {
     "name": "stderr",
     "output_type": "stream",
     "text": [
      "Overriding of current TracerProvider is not allowed\n",
      "Overriding of current LoggerProvider is not allowed\n",
      "Overriding of current MeterProvider is not allowed\n",
      "Attempting to instrument while already instrumented\n",
      "Attempting to instrument while already instrumented\n",
      "Attempting to instrument while already instrumented\n",
      "Attempting to instrument while already instrumented\n",
      "Attempting to instrument while already instrumented\n"
     ]
    },
    {
     "data": {
      "text/plain": [
       "ManagedOnlineEndpoint({'public_network_access': 'Enabled', 'provisioning_state': 'Succeeded', 'scoring_uri': 'https://wand-endpoint-20250607070104.westus2.inference.ml.azure.com/score', 'openapi_uri': 'https://wand-endpoint-20250607070104.westus2.inference.ml.azure.com/swagger.json', 'name': 'wand-endpoint-20250607070104', 'description': 'Wand gesture classification endpoint', 'tags': {}, 'properties': {'createdBy': 'Shiyi Chen', 'createdAt': '2025-06-07T07:01:07.949629+0000', 'lastModifiedAt': '2025-06-07T07:01:07.949629+0000', 'azureml.onlineendpointid': '/subscriptions/1a15ff42-0f80-4a67-94c1-7935c0ed9bd4/resourcegroups/515lab5/providers/microsoft.machinelearningservices/workspaces/wand/onlineendpoints/wand-endpoint-20250607070104', 'AzureAsyncOperationUri': 'https://management.azure.com/subscriptions/1a15ff42-0f80-4a67-94c1-7935c0ed9bd4/providers/Microsoft.MachineLearningServices/locations/westus2/mfeOperationsStatus/oeidp:36ef26e6-24d6-4de8-a84d-1ebf01c6fb06:55c1df62-e3ad-4cc7-ad97-3929e4a0db19?api-version=2022-02-01-preview'}, 'print_as_yaml': False, 'id': '/subscriptions/1a15ff42-0f80-4a67-94c1-7935c0ed9bd4/resourceGroups/515LAB5/providers/Microsoft.MachineLearningServices/workspaces/WAND/onlineEndpoints/wand-endpoint-20250607070104', 'Resource__source_path': '', 'base_path': '/mnt/batch/tasks/shared/LS_root/mounts/clusters/sche7531/code', 'creation_context': None, 'serialize': <msrest.serialization.Serializer object at 0x7557c021fca0>, 'auth_mode': 'key', 'location': 'westus2', 'identity': <azure.ai.ml.entities._credentials.IdentityConfiguration object at 0x7557c028c0d0>, 'traffic': {}, 'mirror_traffic': {}, 'kind': 'Managed'})"
      ]
     },
     "execution_count": 12,
     "metadata": {},
     "output_type": "execute_result"
    }
   ],
   "source": [
    "from azure.ai.ml import MLClient\n",
    "from azure.identity import DefaultAzureCredential\n",
    "from azure.ai.ml.entities import (\n",
    "    Model, Environment, ManagedOnlineEndpoint, ManagedOnlineDeployment\n",
    ")\n",
    "from azure.ai.ml.constants import AssetTypes\n",
    "import datetime\n",
    "\n",
    "# authenticate\n",
    "credential = DefaultAzureCredential()\n",
    "\n",
    "# Set up MLClient\n",
    "SUBSCRIPTION = \"1a15ff42-0f80-4a67-94c1-7935c0ed9bd4\"\n",
    "RESOURCE_GROUP = \"515LAB5\"\n",
    "WS_NAME = \"WAND\"\n",
    "# Get a handle to the workspace\n",
    "ml_client = MLClient(\n",
    "    credential=credential,\n",
    "    subscription_id=SUBSCRIPTION,\n",
    "    resource_group_name=RESOURCE_GROUP,\n",
    "    workspace_name=WS_NAME,\n",
    ")\n",
    "\n",
    "# Register the model\n",
    "model = ml_client.models.create_or_update(\n",
    "    Model(\n",
    "        path=\"wand_model.h5\",\n",
    "        name=\"wand-gesture-model\",\n",
    "        type=AssetTypes.CUSTOM_MODEL,\n",
    "        description=\"Trained gesture model for wand detection\"\n",
    "    )\n",
    ")\n",
    "\n",
    "# Create or reuse an environment\n",
    "env = Environment(\n",
    "    name=\"wand-inference-env\",\n",
    "    description=\"Inference environment for wand model\",\n",
    "    image=\"mcr.microsoft.com/azureml/openmpi4.1.0-ubuntu20.04:latest\",\n",
    "    conda_file=\"dependencies/conda.yaml\",\n",
    ")\n",
    "env = ml_client.environments.create_or_update(env)\n",
    "\n",
    "# Create unique endpoint name using timestamp\n",
    "timestamp = datetime.datetime.now().strftime(\"%Y%m%d%H%M%S\")\n",
    "endpoint_name = f\"wand-endpoint-{timestamp}\"\n",
    "\n",
    "# Define the endpoint\n",
    "endpoint = ManagedOnlineEndpoint(\n",
    "    name=endpoint_name,\n",
    "    description=\"Wand gesture classification endpoint\",\n",
    "    auth_mode=\"key\"\n",
    ")\n",
    "ml_client.begin_create_or_update(endpoint).result()"
   ]
  },
  {
   "cell_type": "code",
   "execution_count": null,
   "id": "10422b49-80ef-4f7f-ab0f-7fca8f56cd75",
   "metadata": {},
   "outputs": [],
   "source": []
  }
 ],
 "metadata": {
  "kernelspec": {
   "display_name": "Python 3.10 - SDK v2",
   "language": "python",
   "name": "python310-sdkv2"
  },
  "language_info": {
   "codemirror_mode": {
    "name": "ipython",
    "version": 3
   },
   "file_extension": ".py",
   "mimetype": "text/x-python",
   "name": "python",
   "nbconvert_exporter": "python",
   "pygments_lexer": "ipython3",
   "version": "3.10.16"
  }
 },
 "nbformat": 4,
 "nbformat_minor": 5
}
