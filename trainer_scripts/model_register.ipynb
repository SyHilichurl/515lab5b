{
 "cells": [
  {
   "cell_type": "code",
   "execution_count": 2,
   "id": "e9bd346f-d759-4fad-858a-ace88725c7b8",
   "metadata": {},
   "outputs": [],
   "source": [
    "import os\n",
    "\n",
    "dependencies_dir = \"./dependencies\"\n",
    "os.makedirs(dependencies_dir, exist_ok=True)"
   ]
  },
  {
   "cell_type": "code",
   "execution_count": 4,
   "id": "57a7b5bf-f33e-49e8-84a9-55d4826e1ed1",
   "metadata": {},
   "outputs": [
    {
     "name": "stdout",
     "output_type": "stream",
     "text": [
      "Overwriting ./dependencies/conda.yaml\n"
     ]
    }
   ],
   "source": [
    "%%writefile {dependencies_dir}/conda.yaml\n",
    "name: model-env\n",
    "channels:\n",
    "  - conda-forge\n",
    "dependencies:\n",
    "  - python=3.8\n",
    "  - numpy=1.21.2\n",
    "  - pip=21.2.4\n",
    "  - scikit-learn=1.0.2\n",
    "  - scipy=1.7.1\n",
    "  - pandas>=1.1,<1.2\n",
    "  - pip:\n",
    "    - inference-schema[numpy-support]==1.3.0\n",
    "    - mlflow==2.8.0\n",
    "    - mlflow-skinny==2.8.0\n",
    "    - azureml-mlflow==1.51.0\n",
    "    - psutil>=5.8,<5.9\n",
    "    - tqdm>=4.59,<4.60\n",
    "    - ipykernel~=6.0\n",
    "    - matplotlib\n",
    "    - tensorflow\n",
    "from azure.ai.ml import MLClient\n",
    "from azure.identity import DefaultAzureCredential\n",
    "from azure.ai.ml.entities import (\n",
    "    Model, Environment, ManagedOnlineEndpoint, ManagedOnlineDeployment\n",
    ")\n",
    "from azure.ai.ml.constants import AssetTypes\n",
    "import datetime\n",
    "\n",
    "# authenticate\n",
    "credential = DefaultAzureCredential()\n",
    "\n",
    "# Set up MLClient\n",
    "SUBSCRIPTION = \"1a15ff42-0f80-4a67-94c1-7935c0ed9bd4\"\n",
    "RESOURCE_GROUP = \"515lab5\"\n",
    "WS_NAME = \"WAND\"\n",
    "# Get a handle to the workspace\n",
    "ml_client = MLClient(\n",
    "    credential=credential,\n",
    "    subscription_id=SUBSCRIPTION,\n",
    "    resource_group_name=RESOURCE_GROUP,\n",
    "    workspace_name=WS_NAME,\n",
    ")\n",
    "\n",
    "# Register the model\n",
    "model = ml_client.models.create_or_update(\n",
    "    Model(\n",
    "        path=\"wand_model.h5\",\n",
    "        name=\"wand-gesture-model\",\n",
    "        type=AssetTypes.CUSTOM_MODEL,\n",
    "        description=\"Trained gesture model for wand detection\"\n",
    "    )\n",
    ")\n",
    "\n",
    "# Create or reuse an environment\n",
    "env = Environment(\n",
    "    name=\"wand-inference-env\",\n",
    "    description=\"Inference environment for wand model\",\n",
    "    image=\"mcr.microsoft.com/azureml/openmpi4.1.0-ubuntu20.04:latest\",\n",
    "    conda_file=\"dependencies/conda.yaml\",\n",
    ")\n",
    "env = ml_client.environments.create_or_update(env)\n",
    "\n",
    "# Create unique endpoint name using timestamp\n",
    "timestamp = datetime.datetime.now().strftime(\"%Y%m%d%H%M%S\")\n",
    "endpoint_name = f\"wand-endpoint-{timestamp}\"\n",
    "\n",
    "# Define the endpoint\n",
    "endpoint = ManagedOnlineEndpoint(\n",
    "    name=endpoint_name,\n",
    "    description=\"Wand gesture classification endpoint\",\n",
    "    auth_mode=\"key\"\n",
    ")\n",
    "ml_client.begin_create_or_update(endpoint).result()"
   ]
  },
  {
   "cell_type": "code",
   "execution_count": null,
   "id": "05863fda-efa0-434d-b430-c1ac7ca50764",
   "metadata": {},
   "outputs": [],
   "source": []
  }
 ],
 "metadata": {
  "kernelspec": {
   "display_name": "Python 3.10 - SDK v2",
   "language": "python",
   "name": "python310-sdkv2"
  },
  "language_info": {
   "codemirror_mode": {
    "name": "ipython",
    "version": 3
   },
   "file_extension": ".py",
   "mimetype": "text/x-python",
   "name": "python",
   "nbconvert_exporter": "python",
   "pygments_lexer": "ipython3",
   "version": "3.10.16"
  }
 },
 "nbformat": 4,
 "nbformat_minor": 5
}
